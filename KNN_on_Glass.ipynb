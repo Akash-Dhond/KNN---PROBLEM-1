{
  "cells": [
    {
      "cell_type": "markdown",
      "id": "2b47d0da",
      "metadata": {
        "id": "2b47d0da"
      },
      "source": [
        "### Importing libraries"
      ]
    },
    {
      "cell_type": "code",
      "execution_count": 1,
      "id": "b8b0e4f5",
      "metadata": {
        "id": "b8b0e4f5"
      },
      "outputs": [],
      "source": [
        "import pandas as pd\n",
        "import numpy as np\n",
        "\n",
        "import matplotlib.pyplot as plt\n",
        "import seaborn as sns\n",
        "\n",
        "from sklearn.model_selection import KFold,cross_val_score\n",
        "from sklearn.neighbors import KNeighborsClassifier\n",
        "from sklearn.model_selection import train_test_split,GridSearchCV\n",
        "from sklearn.metrics import accuracy_score\n",
        "from sklearn import preprocessing\n",
        "\n",
        "import warnings\n",
        "warnings.filterwarnings('ignore')"
      ]
    },
    {
      "cell_type": "markdown",
      "id": "5cfb3ece",
      "metadata": {
        "id": "5cfb3ece"
      },
      "source": [
        "### Reading the input csv file"
      ]
    },
    {
      "cell_type": "code",
      "execution_count": 2,
      "id": "13297313",
      "metadata": {
        "colab": {
          "base_uri": "https://localhost:8080/",
          "height": 206
        },
        "id": "13297313",
        "outputId": "fd0c8d18-f95f-4414-f48d-451c0de3e5a8"
      },
      "outputs": [
        {
          "output_type": "execute_result",
          "data": {
            "text/plain": [
              "        RI     Na    Mg    Al     Si     K    Ca   Ba   Fe  Type\n",
              "0  1.52101  13.64  4.49  1.10  71.78  0.06  8.75  0.0  0.0     1\n",
              "1  1.51761  13.89  3.60  1.36  72.73  0.48  7.83  0.0  0.0     1\n",
              "2  1.51618  13.53  3.55  1.54  72.99  0.39  7.78  0.0  0.0     1\n",
              "3  1.51766  13.21  3.69  1.29  72.61  0.57  8.22  0.0  0.0     1\n",
              "4  1.51742  13.27  3.62  1.24  73.08  0.55  8.07  0.0  0.0     1"
            ],
            "text/html": [
              "\n",
              "  <div id=\"df-ff6c9b96-9ffc-466a-bc06-81c71cc784a1\">\n",
              "    <div class=\"colab-df-container\">\n",
              "      <div>\n",
              "<style scoped>\n",
              "    .dataframe tbody tr th:only-of-type {\n",
              "        vertical-align: middle;\n",
              "    }\n",
              "\n",
              "    .dataframe tbody tr th {\n",
              "        vertical-align: top;\n",
              "    }\n",
              "\n",
              "    .dataframe thead th {\n",
              "        text-align: right;\n",
              "    }\n",
              "</style>\n",
              "<table border=\"1\" class=\"dataframe\">\n",
              "  <thead>\n",
              "    <tr style=\"text-align: right;\">\n",
              "      <th></th>\n",
              "      <th>RI</th>\n",
              "      <th>Na</th>\n",
              "      <th>Mg</th>\n",
              "      <th>Al</th>\n",
              "      <th>Si</th>\n",
              "      <th>K</th>\n",
              "      <th>Ca</th>\n",
              "      <th>Ba</th>\n",
              "      <th>Fe</th>\n",
              "      <th>Type</th>\n",
              "    </tr>\n",
              "  </thead>\n",
              "  <tbody>\n",
              "    <tr>\n",
              "      <th>0</th>\n",
              "      <td>1.52101</td>\n",
              "      <td>13.64</td>\n",
              "      <td>4.49</td>\n",
              "      <td>1.10</td>\n",
              "      <td>71.78</td>\n",
              "      <td>0.06</td>\n",
              "      <td>8.75</td>\n",
              "      <td>0.0</td>\n",
              "      <td>0.0</td>\n",
              "      <td>1</td>\n",
              "    </tr>\n",
              "    <tr>\n",
              "      <th>1</th>\n",
              "      <td>1.51761</td>\n",
              "      <td>13.89</td>\n",
              "      <td>3.60</td>\n",
              "      <td>1.36</td>\n",
              "      <td>72.73</td>\n",
              "      <td>0.48</td>\n",
              "      <td>7.83</td>\n",
              "      <td>0.0</td>\n",
              "      <td>0.0</td>\n",
              "      <td>1</td>\n",
              "    </tr>\n",
              "    <tr>\n",
              "      <th>2</th>\n",
              "      <td>1.51618</td>\n",
              "      <td>13.53</td>\n",
              "      <td>3.55</td>\n",
              "      <td>1.54</td>\n",
              "      <td>72.99</td>\n",
              "      <td>0.39</td>\n",
              "      <td>7.78</td>\n",
              "      <td>0.0</td>\n",
              "      <td>0.0</td>\n",
              "      <td>1</td>\n",
              "    </tr>\n",
              "    <tr>\n",
              "      <th>3</th>\n",
              "      <td>1.51766</td>\n",
              "      <td>13.21</td>\n",
              "      <td>3.69</td>\n",
              "      <td>1.29</td>\n",
              "      <td>72.61</td>\n",
              "      <td>0.57</td>\n",
              "      <td>8.22</td>\n",
              "      <td>0.0</td>\n",
              "      <td>0.0</td>\n",
              "      <td>1</td>\n",
              "    </tr>\n",
              "    <tr>\n",
              "      <th>4</th>\n",
              "      <td>1.51742</td>\n",
              "      <td>13.27</td>\n",
              "      <td>3.62</td>\n",
              "      <td>1.24</td>\n",
              "      <td>73.08</td>\n",
              "      <td>0.55</td>\n",
              "      <td>8.07</td>\n",
              "      <td>0.0</td>\n",
              "      <td>0.0</td>\n",
              "      <td>1</td>\n",
              "    </tr>\n",
              "  </tbody>\n",
              "</table>\n",
              "</div>\n",
              "      <button class=\"colab-df-convert\" onclick=\"convertToInteractive('df-ff6c9b96-9ffc-466a-bc06-81c71cc784a1')\"\n",
              "              title=\"Convert this dataframe to an interactive table.\"\n",
              "              style=\"display:none;\">\n",
              "        \n",
              "  <svg xmlns=\"http://www.w3.org/2000/svg\" height=\"24px\"viewBox=\"0 0 24 24\"\n",
              "       width=\"24px\">\n",
              "    <path d=\"M0 0h24v24H0V0z\" fill=\"none\"/>\n",
              "    <path d=\"M18.56 5.44l.94 2.06.94-2.06 2.06-.94-2.06-.94-.94-2.06-.94 2.06-2.06.94zm-11 1L8.5 8.5l.94-2.06 2.06-.94-2.06-.94L8.5 2.5l-.94 2.06-2.06.94zm10 10l.94 2.06.94-2.06 2.06-.94-2.06-.94-.94-2.06-.94 2.06-2.06.94z\"/><path d=\"M17.41 7.96l-1.37-1.37c-.4-.4-.92-.59-1.43-.59-.52 0-1.04.2-1.43.59L10.3 9.45l-7.72 7.72c-.78.78-.78 2.05 0 2.83L4 21.41c.39.39.9.59 1.41.59.51 0 1.02-.2 1.41-.59l7.78-7.78 2.81-2.81c.8-.78.8-2.07 0-2.86zM5.41 20L4 18.59l7.72-7.72 1.47 1.35L5.41 20z\"/>\n",
              "  </svg>\n",
              "      </button>\n",
              "      \n",
              "  <style>\n",
              "    .colab-df-container {\n",
              "      display:flex;\n",
              "      flex-wrap:wrap;\n",
              "      gap: 12px;\n",
              "    }\n",
              "\n",
              "    .colab-df-convert {\n",
              "      background-color: #E8F0FE;\n",
              "      border: none;\n",
              "      border-radius: 50%;\n",
              "      cursor: pointer;\n",
              "      display: none;\n",
              "      fill: #1967D2;\n",
              "      height: 32px;\n",
              "      padding: 0 0 0 0;\n",
              "      width: 32px;\n",
              "    }\n",
              "\n",
              "    .colab-df-convert:hover {\n",
              "      background-color: #E2EBFA;\n",
              "      box-shadow: 0px 1px 2px rgba(60, 64, 67, 0.3), 0px 1px 3px 1px rgba(60, 64, 67, 0.15);\n",
              "      fill: #174EA6;\n",
              "    }\n",
              "\n",
              "    [theme=dark] .colab-df-convert {\n",
              "      background-color: #3B4455;\n",
              "      fill: #D2E3FC;\n",
              "    }\n",
              "\n",
              "    [theme=dark] .colab-df-convert:hover {\n",
              "      background-color: #434B5C;\n",
              "      box-shadow: 0px 1px 3px 1px rgba(0, 0, 0, 0.15);\n",
              "      filter: drop-shadow(0px 1px 2px rgba(0, 0, 0, 0.3));\n",
              "      fill: #FFFFFF;\n",
              "    }\n",
              "  </style>\n",
              "\n",
              "      <script>\n",
              "        const buttonEl =\n",
              "          document.querySelector('#df-ff6c9b96-9ffc-466a-bc06-81c71cc784a1 button.colab-df-convert');\n",
              "        buttonEl.style.display =\n",
              "          google.colab.kernel.accessAllowed ? 'block' : 'none';\n",
              "\n",
              "        async function convertToInteractive(key) {\n",
              "          const element = document.querySelector('#df-ff6c9b96-9ffc-466a-bc06-81c71cc784a1');\n",
              "          const dataTable =\n",
              "            await google.colab.kernel.invokeFunction('convertToInteractive',\n",
              "                                                     [key], {});\n",
              "          if (!dataTable) return;\n",
              "\n",
              "          const docLinkHtml = 'Like what you see? Visit the ' +\n",
              "            '<a target=\"_blank\" href=https://colab.research.google.com/notebooks/data_table.ipynb>data table notebook</a>'\n",
              "            + ' to learn more about interactive tables.';\n",
              "          element.innerHTML = '';\n",
              "          dataTable['output_type'] = 'display_data';\n",
              "          await google.colab.output.renderOutput(dataTable, element);\n",
              "          const docLink = document.createElement('div');\n",
              "          docLink.innerHTML = docLinkHtml;\n",
              "          element.appendChild(docLink);\n",
              "        }\n",
              "      </script>\n",
              "    </div>\n",
              "  </div>\n",
              "  "
            ]
          },
          "metadata": {},
          "execution_count": 2
        }
      ],
      "source": [
        "glass=pd.read_csv(\"/content/glass.csv\")\n",
        "glass.head()"
      ]
    },
    {
      "cell_type": "markdown",
      "id": "8ea2b003",
      "metadata": {
        "id": "8ea2b003"
      },
      "source": [
        "### Checking for the null values and data types of the input data"
      ]
    },
    {
      "cell_type": "code",
      "execution_count": 3,
      "id": "0ae588dd",
      "metadata": {
        "colab": {
          "base_uri": "https://localhost:8080/"
        },
        "id": "0ae588dd",
        "outputId": "57249b8d-71fb-434c-f19e-4d2db1de19e9"
      },
      "outputs": [
        {
          "output_type": "stream",
          "name": "stdout",
          "text": [
            "<class 'pandas.core.frame.DataFrame'>\n",
            "RangeIndex: 214 entries, 0 to 213\n",
            "Data columns (total 10 columns):\n",
            " #   Column  Non-Null Count  Dtype  \n",
            "---  ------  --------------  -----  \n",
            " 0   RI      214 non-null    float64\n",
            " 1   Na      214 non-null    float64\n",
            " 2   Mg      214 non-null    float64\n",
            " 3   Al      214 non-null    float64\n",
            " 4   Si      214 non-null    float64\n",
            " 5   K       214 non-null    float64\n",
            " 6   Ca      214 non-null    float64\n",
            " 7   Ba      214 non-null    float64\n",
            " 8   Fe      214 non-null    float64\n",
            " 9   Type    214 non-null    int64  \n",
            "dtypes: float64(9), int64(1)\n",
            "memory usage: 16.8 KB\n"
          ]
        }
      ],
      "source": [
        "glass.info()"
      ]
    },
    {
      "cell_type": "markdown",
      "id": "b3487d97",
      "metadata": {
        "id": "b3487d97"
      },
      "source": [
        "### Extracting the independent and dependent variables from the input dataset"
      ]
    },
    {
      "cell_type": "code",
      "execution_count": 4,
      "id": "6ab1006e",
      "metadata": {
        "id": "6ab1006e"
      },
      "outputs": [],
      "source": [
        "x=glass.iloc[:,0:9]\n",
        "y=glass.iloc[:,9]"
      ]
    },
    {
      "cell_type": "code",
      "execution_count": 5,
      "id": "0e8047a0",
      "metadata": {
        "colab": {
          "base_uri": "https://localhost:8080/",
          "height": 515
        },
        "id": "0e8047a0",
        "outputId": "9380836a-ca6e-4453-ecfe-7ce6b537e8bf"
      },
      "outputs": [
        {
          "output_type": "execute_result",
          "data": {
            "text/plain": [
              "<matplotlib.axes._subplots.AxesSubplot at 0x7f2e5cd95310>"
            ]
          },
          "metadata": {},
          "execution_count": 5
        },
        {
          "output_type": "display_data",
          "data": {
            "text/plain": [
              "<Figure size 720x576 with 9 Axes>"
            ],
            "image/png": "[encoded data removed]"
          },
          "metadata": {
            "needs_background": "light"
          }
        }
      ],
      "source": [
        "plt.figure(figsize=(10,8))\n",
        "plt.subplot(3,3,1)\n",
        "sns.distplot(glass.RI)\n",
        "plt.subplot(3,3,2)\n",
        "sns.distplot(glass.Na)\n",
        "plt.subplot(3,3,3)\n",
        "sns.distplot(glass.Mg)\n",
        "plt.subplot(3,3,4)\n",
        "sns.distplot(glass.Al)\n",
        "plt.subplot(3,3,5)\n",
        "sns.distplot(glass.Si)\n",
        "plt.subplot(3,3,6)\n",
        "sns.distplot(glass.K)\n",
        "plt.subplot(3,3,7)\n",
        "sns.distplot(glass.Ca)\n",
        "plt.subplot(3,3,8)\n",
        "sns.distplot(glass.Fe)\n",
        "plt.subplot(3,3,9)\n",
        "sns.distplot(glass.Type)"
      ]
    },
    {
      "cell_type": "markdown",
      "id": "c4646128",
      "metadata": {
        "id": "c4646128"
      },
      "source": [
        "### Standardising the data to avoid variance among the features in the dataset"
      ]
    },
    {
      "cell_type": "code",
      "execution_count": 6,
      "id": "160a8850",
      "metadata": {
        "id": "160a8850"
      },
      "outputs": [],
      "source": [
        "scale=preprocessing.StandardScaler()\n",
        "x=scale.fit_transform(x)"
      ]
    },
    {
      "cell_type": "markdown",
      "id": "42f362ac",
      "metadata": {
        "id": "42f362ac"
      },
      "source": [
        "### Splitting the data into train and test datasets"
      ]
    },
    {
      "cell_type": "code",
      "execution_count": 7,
      "id": "dbd4cce8",
      "metadata": {
        "id": "dbd4cce8"
      },
      "outputs": [],
      "source": [
        "x_train,x_test,y_train,y_test=train_test_split(x,y,test_size=0.2,random_state=7)"
      ]
    },
    {
      "cell_type": "markdown",
      "id": "feffed80",
      "metadata": {
        "id": "feffed80"
      },
      "source": [
        "### Constructing a KNN model, considering 4 neighbors"
      ]
    },
    {
      "cell_type": "code",
      "execution_count": 8,
      "id": "19d3919e",
      "metadata": {
        "colab": {
          "base_uri": "https://localhost:8080/"
        },
        "id": "19d3919e",
        "outputId": "dbeda8c3-135d-4796-a2f9-77a47bb9edb3"
      },
      "outputs": [
        {
          "output_type": "execute_result",
          "data": {
            "text/plain": [
              "KNeighborsClassifier(n_neighbors=4)"
            ]
          },
          "metadata": {},
          "execution_count": 8
        }
      ],
      "source": [
        "model1=KNeighborsClassifier(n_neighbors=4)\n",
        "model1.fit(x_train,y_train)"
      ]
    },
    {
      "cell_type": "markdown",
      "id": "4099f1e7",
      "metadata": {
        "id": "4099f1e7"
      },
      "source": [
        "### Predicting the model on the test data"
      ]
    },
    {
      "cell_type": "code",
      "execution_count": 9,
      "id": "eddc7629",
      "metadata": {
        "id": "eddc7629"
      },
      "outputs": [],
      "source": [
        "y_pred=model1.predict(x_test)"
      ]
    },
    {
      "cell_type": "code",
      "execution_count": 10,
      "id": "2d1eeeda",
      "metadata": {
        "colab": {
          "base_uri": "https://localhost:8080/"
        },
        "id": "2d1eeeda",
        "outputId": "cf27ea87-0366-4923-9e89-5c608a242afd"
      },
      "outputs": [
        {
          "output_type": "execute_result",
          "data": {
            "text/plain": [
              "0.6744186046511628"
            ]
          },
          "metadata": {},
          "execution_count": 10
        }
      ],
      "source": [
        "accuracy=accuracy_score(y_test,y_pred)\n",
        "accuracy"
      ]
    },
    {
      "cell_type": "markdown",
      "id": "ceca3da4",
      "metadata": {
        "id": "ceca3da4"
      },
      "source": [
        "### Using gridsearchCV to identify the best parameter, which gives a higher accuracy in classification"
      ]
    },
    {
      "cell_type": "code",
      "execution_count": 11,
      "id": "510bc8d9",
      "metadata": {
        "id": "510bc8d9"
      },
      "outputs": [],
      "source": [
        "model=KNeighborsClassifier()\n",
        "n_neighbors = np.array(range(1,50))\n",
        "param_grid = dict(n_neighbors=n_neighbors)"
      ]
    },
    {
      "cell_type": "code",
      "execution_count": 12,
      "id": "119ae976",
      "metadata": {
        "colab": {
          "base_uri": "https://localhost:8080/"
        },
        "id": "119ae976",
        "outputId": "9d47396e-25ed-44cd-8802-1c1485bd5f19"
      },
      "outputs": [
        {
          "output_type": "execute_result",
          "data": {
            "text/plain": [
              "GridSearchCV(estimator=KNeighborsClassifier(),\n",
              "             param_grid={'n_neighbors': array([ 1,  2,  3,  4,  5,  6,  7,  8,  9, 10, 11, 12, 13, 14, 15, 16, 17,\n",
              "       18, 19, 20, 21, 22, 23, 24, 25, 26, 27, 28, 29, 30, 31, 32, 33, 34,\n",
              "       35, 36, 37, 38, 39, 40, 41, 42, 43, 44, 45, 46, 47, 48, 49])})"
            ]
          },
          "metadata": {},
          "execution_count": 12
        }
      ],
      "source": [
        "gsv=GridSearchCV(model,param_grid=param_grid)\n",
        "gsv.fit(x_train,y_train)"
      ]
    },
    {
      "cell_type": "code",
      "execution_count": 13,
      "id": "cfc66e00",
      "metadata": {
        "colab": {
          "base_uri": "https://localhost:8080/"
        },
        "id": "cfc66e00",
        "outputId": "8311a07e-3e80-4bcb-a8da-bbd0fdf6c977"
      },
      "outputs": [
        {
          "output_type": "stream",
          "name": "stdout",
          "text": [
            "{'n_neighbors': 4} 0.7307563025210084\n"
          ]
        }
      ],
      "source": [
        "print((gsv.best_params_),(gsv.best_score_))"
      ]
    },
    {
      "cell_type": "markdown",
      "id": "47ad2e58",
      "metadata": {
        "id": "47ad2e58"
      },
      "source": [
        "### Visualising different values of neighbors taken in a KNN model Vs it corresponding validation accuracy"
      ]
    },
    {
      "cell_type": "code",
      "execution_count": 14,
      "id": "bbec5647",
      "metadata": {
        "scrolled": true,
        "colab": {
          "base_uri": "https://localhost:8080/",
          "height": 283
        },
        "id": "bbec5647",
        "outputId": "78c1d889-927c-4c42-8035-3765f8efa3c2"
      },
      "outputs": [
        {
          "output_type": "display_data",
          "data": {
            "text/plain": [
              "<Figure size 432x288 with 1 Axes>"
            ],
            "image/png": "[encoded data removed]"
          },
          "metadata": {
            "needs_background": "light"
          }
        }
      ],
      "source": [
        "k_range = range(1,50)\n",
        "k_scores = []\n",
        "for k in k_range:\n",
        "    knn = KNeighborsClassifier(n_neighbors=k)\n",
        "    scores = cross_val_score(knn, x_train, y_train, cv=10)\n",
        "    k_scores.append(scores.mean())\n",
        "plt.plot(k_range, k_scores)\n",
        "plt.xlabel('Value of K for KNN')\n",
        "plt.ylabel('Cross-Validated Accuracy')\n",
        "plt.show()"
      ]
    },
    {
      "cell_type": "markdown",
      "id": "5745057b",
      "metadata": {
        "id": "5745057b"
      },
      "source": [
        "### Conclusion:\n",
        "\n",
        "### Thus, the model we constructed depicts that, it gives the highest classification accuracy for glasses, when we consider 4 neighbours in the KNN algorithm"
      ]
    }
  ],
  "metadata": {
    "kernelspec": {
      "display_name": "Python 3",
      "language": "python",
      "name": "python3"
    },
    "language_info": {
      "codemirror_mode": {
        "name": "ipython",
        "version": 3
      },
      "file_extension": ".py",
      "mimetype": "text/x-python",
      "name": "python",
      "nbconvert_exporter": "python",
      "pygments_lexer": "ipython3",
      "version": "3.8.8"
    },
    "colab": {
      "provenance": []
    }
  },
  "nbformat": 4,
  "nbformat_minor": 5
}